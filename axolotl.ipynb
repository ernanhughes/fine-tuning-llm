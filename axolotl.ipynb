{
 "cells": [
  {
   "cell_type": "code",
   "execution_count": null,
   "metadata": {},
   "outputs": [],
   "source": [
    "git clone https://github.com/OpenAccess-AI-Collective/axolotl\n",
    "cd axolotl\n",
    "\n",
    "pip3 install packaging ninja\n",
    "pip3 install -e '.[flash-attn,deepspeed]'"
   ]
  },
  {
   "cell_type": "code",
   "execution_count": null,
   "metadata": {},
   "outputs": [],
   "source": [
    "# preprocess datasets - optional but recommended\n",
    "CUDA_VISIBLE_DEVICES=\"\" python -m axolotl.cli.preprocess examples/openllama-3b/lora.yml\n",
    "\n",
    "# finetune lora\n",
    "accelerate launch -m axolotl.cli.train examples/openllama-3b/lora.yml\n",
    "\n",
    "# inference\n",
    "accelerate launch -m axolotl.cli.inference examples/openllama-3b/lora.yml \\\n",
    "    --lora_model_dir=\"./outputs/lora-out\"\n",
    "\n",
    "# gradio\n",
    "accelerate launch -m axolotl.cli.inference examples/openllama-3b/lora.yml \\\n",
    "    --lora_model_dir=\"./outputs/lora-out\" --gradio\n",
    "\n",
    "# remote yaml files - the yaml config can be hosted on a public URL\n",
    "# Note: the yaml config must directly link to the **raw** yaml\n",
    "accelerate launch -m axolotl.cli.train https://raw.githubusercontent.com/OpenAccess-AI-Collective/axolotl/main/examples/openllama-3b/lora.yml"
   ]
  }
 ],
 "metadata": {
  "language_info": {
   "name": "python"
  }
 },
 "nbformat": 4,
 "nbformat_minor": 2
}
