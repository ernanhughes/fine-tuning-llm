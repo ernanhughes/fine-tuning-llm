{
  "cells": [
    {
      "cell_type": "markdown",
      "metadata": {
        "id": "view-in-github",
        "colab_type": "text"
      },
      "source": [
        "<a href=\"https://colab.research.google.com/github/ernanhughes/fine-tuning-llm/blob/main/Finetune_LLaMA_with_Alpaca_GPT_4_Data_(5K_Samples)_Flash_Attention_2.ipynb\" target=\"_parent\"><img src=\"https://colab.research.google.com/assets/colab-badge.svg\" alt=\"Open In Colab\"/></a>"
      ]
    },
    {
      "cell_type": "markdown",
      "source": [
        "### ⚠ IMPORTANT ⚠\n",
        "\n",
        "Please ensure your Colab runtime is set to the following:\n",
        "\n",
        "![image.png](data:image/png;base64,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)\n"
      ],
      "metadata": {
        "id": "-2-IlPIfxagZ"
      },
      "id": "-2-IlPIfxagZ"
    },
    {
      "cell_type": "markdown",
      "source": [
        "# Let's instruct-tune LLaMA-7B!\n",
        "\n",
        "If you haven't already had the change to experience the newest LLaMA model, check out these resources:\n",
        "\n",
        "- [Release Material](https://about.fb.com/news/2023/07/llama-2/)\n",
        "- [Model Hosted on HF](https://huggingface.co/spaces/ysharma/Explore_llamav2_with_TGI)\n",
        "- [HF Blog About the Release](https://huggingface.co/blog/llama2)\n",
        "\n",
        "Today, we'll be working with the `7b-hf` version of the model. Put simply, this is a 7 billion parameter model saved in a HF friendly format.\n",
        "\n",
        "You can find more information about the model [here](https://huggingface.co/NousResearch/Llama-2-7b-hf)\n",
        "\n",
        "The astute among you will notice that this is not the official Meta model. In order to use the official weights, you can request access [here](https://ai.meta.com/resources/models-and-libraries/llama-downloads/), but for now we'll be leveraging accessible model weights."
      ],
      "metadata": {
        "id": "tg6gJeZvsO2i"
      },
      "id": "tg6gJeZvsO2i"
    },
    {
      "cell_type": "markdown",
      "source": [
        "### Technologies Used\n",
        "\n",
        "In this notebook we'll be taking advantage of the follow technologies, it's a long list - I know.\n",
        "\n",
        "- [Flash Attention](https://arxiv.org/abs/2205.14135)\n",
        "- LoRA\n",
        "  - [LoRA Paper](https://arxiv.org/abs/2106.09685)\n",
        "  - [HF's `peft` library](https://github.com/huggingface/peft)\n",
        "- HF's `transformers` library\n",
        "- `torch`\n",
        "- `cuda`\n",
        "- 4-bit Quantization (and Double-Quantization) from Tim Dettmers.\n",
        "  - [QLoRA Paper](https://arxiv.org/abs/2305.14314)\n",
        "  - `bitsandbytes`\n",
        "- `SFTTrainer`\n",
        "  - [TRL Library](https://github.com/lvwerra/trl)\n",
        "- HF's `datasets`\n",
        "- HF's `huggingface_hub`\n",
        "\n",
        "As you can see, we're relying on a number of amazing libraries, frameworks, and more.\n",
        "\n",
        "It's absolutely incredible what is possible these days!"
      ],
      "metadata": {
        "id": "gmN-M6IKyT08"
      },
      "id": "gmN-M6IKyT08"
    },
    {
      "cell_type": "markdown",
      "source": [
        "### Dependencies\n",
        "\n",
        "First things first, let's grab some dependencies."
      ],
      "metadata": {
        "id": "MnIyV2pDt30e"
      },
      "id": "MnIyV2pDt30e"
    },
    {
      "cell_type": "code",
      "execution_count": null,
      "id": "4b94a0de-80fa-4e76-aca9-e28853ca839d",
      "metadata": {
        "tags": [],
        "id": "4b94a0de-80fa-4e76-aca9-e28853ca839d"
      },
      "outputs": [],
      "source": [
        "!pip install -U -q \"transformers==4.31.0\" \"datasets==2.13.0\" \"peft==0.4.0\" \"accelerate==0.21.0\" \"bitsandbytes==0.40.2\" \"trl==0.4.7\" \"safetensors>=0.3.1\""
      ]
    },
    {
      "cell_type": "markdown",
      "source": [
        "### Data\n",
        "\n",
        "Now, we'll load some of the GPT-4 generated Alpaca-GPT dataset.\n",
        "\n",
        "You can use essentially any data you'd like here - though I'd recommend leveraging some kind of instruction dataset.\n",
        "\n"
      ],
      "metadata": {
        "id": "02s3FHW6uCIN"
      },
      "id": "02s3FHW6uCIN"
    },
    {
      "cell_type": "code",
      "execution_count": null,
      "id": "f1029297-3a04-4828-a388-29e7f5f02fae",
      "metadata": {
        "tags": [],
        "colab": {
          "base_uri": "https://localhost:8080/"
        },
        "id": "f1029297-3a04-4828-a388-29e7f5f02fae",
        "outputId": "d1b28177-e7c8-47c8-da9d-578cf415939e"
      },
      "outputs": [
        {
          "output_type": "stream",
          "name": "stderr",
          "text": [
            "WARNING:datasets.builder:Found cached dataset json (/root/.cache/huggingface/datasets/c-s-ale___json/c-s-ale--alpaca-gpt4-data-35876470b5e8cc77/0.0.0/e347ab1c932092252e717ff3f949105a4dd28b27e842dd53157d2f72e276c2e4)\n"
          ]
        }
      ],
      "source": [
        "from datasets import load_dataset\n",
        "\n",
        "alpaca_gpt_4_dataset = load_dataset(\"c-s-ale/alpaca-gpt4-data\", split=\"train\")"
      ]
    },
    {
      "cell_type": "code",
      "execution_count": null,
      "id": "73f2c899",
      "metadata": {
        "tags": [],
        "colab": {
          "base_uri": "https://localhost:8080/"
        },
        "id": "73f2c899",
        "outputId": "db8fa59a-044c-4b51-bb31-5d558b4fb9e6"
      },
      "outputs": [
        {
          "output_type": "execute_result",
          "data": {
            "text/plain": [
              "52002"
            ]
          },
          "metadata": {},
          "execution_count": 3
        }
      ],
      "source": [
        "len(alpaca_gpt_4_dataset)"
      ]
    },
    {
      "cell_type": "markdown",
      "source": [
        "We're going to do some naive filtering and sampling in order to allow the notebook to run in a reasonable amount of time (~1hr.)"
      ],
      "metadata": {
        "id": "43VaKmPYuZkR"
      },
      "id": "43VaKmPYuZkR"
    },
    {
      "cell_type": "code",
      "execution_count": null,
      "id": "060c5bca",
      "metadata": {
        "tags": [],
        "colab": {
          "base_uri": "https://localhost:8080/"
        },
        "id": "060c5bca",
        "outputId": "eba433fa-092d-4349-f513-b5a900205cb9"
      },
      "outputs": [
        {
          "output_type": "stream",
          "name": "stderr",
          "text": [
            "WARNING:datasets.arrow_dataset:Loading cached processed dataset at /root/.cache/huggingface/datasets/c-s-ale___json/c-s-ale--alpaca-gpt4-data-35876470b5e8cc77/0.0.0/e347ab1c932092252e717ff3f949105a4dd28b27e842dd53157d2f72e276c2e4/cache-461825023b005cd9.arrow\n"
          ]
        }
      ],
      "source": [
        "dataset = alpaca_gpt_4_dataset.filter(lambda example: (len(example[\"input\"]) + len(example[\"output\"]) + len(example[\"instruction\"])) <= 2000)"
      ]
    },
    {
      "cell_type": "code",
      "execution_count": null,
      "id": "48dab08f",
      "metadata": {
        "tags": [],
        "colab": {
          "base_uri": "https://localhost:8080/"
        },
        "id": "48dab08f",
        "outputId": "d50f7adb-fd2b-496f-e40b-181fb1ae952a"
      },
      "outputs": [
        {
          "output_type": "execute_result",
          "data": {
            "text/plain": [
              "49406"
            ]
          },
          "metadata": {},
          "execution_count": 5
        }
      ],
      "source": [
        "len(dataset)"
      ]
    },
    {
      "cell_type": "code",
      "execution_count": null,
      "id": "a01e13a5",
      "metadata": {
        "tags": [],
        "id": "a01e13a5"
      },
      "outputs": [],
      "source": [
        "dataset = dataset.select(range(5_000))"
      ]
    },
    {
      "cell_type": "code",
      "execution_count": null,
      "id": "5819e927",
      "metadata": {
        "tags": [],
        "colab": {
          "base_uri": "https://localhost:8080/"
        },
        "id": "5819e927",
        "outputId": "a01f3e30-d585-4439-9262-324888d7e17a"
      },
      "outputs": [
        {
          "output_type": "execute_result",
          "data": {
            "text/plain": [
              "5000"
            ]
          },
          "metadata": {},
          "execution_count": 7
        }
      ],
      "source": [
        "len(dataset)"
      ]
    },
    {
      "cell_type": "markdown",
      "source": [
        "As always, we'll need to move our data into an instruction-prompt.\n",
        "\n",
        "There are many different approaches to this specific step, and you should feel free to modify and experiment here!"
      ],
      "metadata": {
        "id": "yt0cNFQXuk9Q"
      },
      "id": "yt0cNFQXuk9Q"
    },
    {
      "cell_type": "code",
      "execution_count": null,
      "id": "e507708d-46cf-41da-8f1f-ac2d249f3a10",
      "metadata": {
        "tags": [],
        "id": "e507708d-46cf-41da-8f1f-ac2d249f3a10"
      },
      "outputs": [],
      "source": [
        "def format_row_as_instruction_prompt(example):\n",
        "    primer_prompt_with_input = f\"Below is an instruction that describes a task, paired with an input that provides further context. Write a response that appropriately completes the request.\"\n",
        "    primer_prompt_no_input = f\"Below is an instruction that describes a task. Write a response that appropriately completes the request.\"\n",
        "    instruction_template = f\"Provided an instruction and a input, please provide a coherent response. \\n### Instruction:\\n{example['instruction']}\"\n",
        "    input_template = f\"### Input:\\n{example['input']}\"\n",
        "    response_template = f\"### Response:\\n{example['output']}\"\n",
        "\n",
        "    total_prompt_list = []\n",
        "\n",
        "    if example[\"input\"]:\n",
        "        total_prompt_list.append(primer_prompt_with_input)\n",
        "        total_prompt_list.append(input_template)\n",
        "    else:\n",
        "        total_prompt_list.append(primer_prompt_no_input)\n",
        "\n",
        "    total_prompt_list.append(response_template)\n",
        "\n",
        "    return \"\\n\\n\".join(total_prompt_list)"
      ]
    },
    {
      "cell_type": "markdown",
      "source": [
        "Let's just confirm the format is as we expect:"
      ],
      "metadata": {
        "id": "lhvQ1rMgu4kM"
      },
      "id": "lhvQ1rMgu4kM"
    },
    {
      "cell_type": "code",
      "execution_count": null,
      "id": "6bb4a395-a620-43a7-bc9b-f82c211f26dd",
      "metadata": {
        "tags": [],
        "colab": {
          "base_uri": "https://localhost:8080/"
        },
        "id": "6bb4a395-a620-43a7-bc9b-f82c211f26dd",
        "outputId": "b9424267-25d9-4597-9ffe-4e7ca362e590"
      },
      "outputs": [
        {
          "output_type": "stream",
          "name": "stdout",
          "text": [
            "Below is an instruction that describes a task, paired with an input that provides further context. Write a response that appropriately completes the request.\n",
            "\n",
            "### Input:\n",
            "Twitter, Instagram, Telegram\n",
            "\n",
            "### Response:\n",
            "The odd one out is Telegram. Twitter and Instagram are social media platforms mainly for sharing information, images and videos while Telegram is a cloud-based instant messaging and voice-over-IP service.\n"
          ]
        }
      ],
      "source": [
        "print(format_row_as_instruction_prompt(alpaca_gpt_4_dataset[5]))"
      ]
    },
    {
      "cell_type": "markdown",
      "source": [
        "We'll leverage a helpful utility from Phil Schmid's [repo](https://github.com/philschmid/deep-learning-pytorch-huggingface/blob/main/training/utils/llama_patch.py)\n",
        "\n",
        "(taken from his helpful walkthrough [here](https://www.philschmid.de/instruction-tune-llama-2))\n",
        "\n",
        "NOTE: It will take a decent amount of time to install Flash Attention - please be patient!"
      ],
      "metadata": {
        "id": "XCi1buwewYTx"
      },
      "id": "XCi1buwewYTx"
    },
    {
      "cell_type": "code",
      "execution_count": null,
      "id": "c089a567-4d56-48ec-a7a7-5459ff82b0cd",
      "metadata": {
        "id": "c089a567-4d56-48ec-a7a7-5459ff82b0cd"
      },
      "outputs": [],
      "source": [
        "!pip install -q ninja packaging"
      ]
    },
    {
      "cell_type": "code",
      "execution_count": null,
      "id": "c9c0714e",
      "metadata": {
        "id": "c9c0714e",
        "outputId": "90760f11-03ac-4e0c-c8a1-cdf84115b30c",
        "colab": {
          "base_uri": "https://localhost:8080/"
        }
      },
      "outputs": [
        {
          "output_type": "stream",
          "name": "stdout",
          "text": [
            "Requirement already satisfied: flash-attn in /usr/local/lib/python3.10/dist-packages (2.0.6)\n",
            "Requirement already satisfied: torch in /usr/local/lib/python3.10/dist-packages (from flash-attn) (2.0.1+cu118)\n",
            "Requirement already satisfied: einops in /usr/local/lib/python3.10/dist-packages (from flash-attn) (0.6.1)\n",
            "Requirement already satisfied: packaging in /usr/local/lib/python3.10/dist-packages (from flash-attn) (23.1)\n",
            "Requirement already satisfied: ninja in /usr/local/lib/python3.10/dist-packages (from flash-attn) (1.11.1)\n",
            "Requirement already satisfied: filelock in /usr/local/lib/python3.10/dist-packages (from torch->flash-attn) (3.12.2)\n",
            "Requirement already satisfied: typing-extensions in /usr/local/lib/python3.10/dist-packages (from torch->flash-attn) (4.7.1)\n",
            "Requirement already satisfied: sympy in /usr/local/lib/python3.10/dist-packages (from torch->flash-attn) (1.12)\n",
            "Requirement already satisfied: networkx in /usr/local/lib/python3.10/dist-packages (from torch->flash-attn) (3.1)\n",
            "Requirement already satisfied: jinja2 in /usr/local/lib/python3.10/dist-packages (from torch->flash-attn) (3.1.2)\n",
            "Requirement already satisfied: triton==2.0.0 in /usr/local/lib/python3.10/dist-packages (from torch->flash-attn) (2.0.0)\n",
            "Requirement already satisfied: cmake in /usr/local/lib/python3.10/dist-packages (from triton==2.0.0->torch->flash-attn) (3.27.1)\n",
            "Requirement already satisfied: lit in /usr/local/lib/python3.10/dist-packages (from triton==2.0.0->torch->flash-attn) (16.0.6)\n",
            "Requirement already satisfied: MarkupSafe>=2.0 in /usr/local/lib/python3.10/dist-packages (from jinja2->torch->flash-attn) (2.1.3)\n",
            "Requirement already satisfied: mpmath>=0.19 in /usr/local/lib/python3.10/dist-packages (from sympy->torch->flash-attn) (1.3.0)\n"
          ]
        }
      ],
      "source": [
        "!MAX_JOBS=4 pip install -U flash-attn --no-build-isolation"
      ]
    },
    {
      "cell_type": "code",
      "execution_count": null,
      "id": "b978d694",
      "metadata": {
        "tags": [],
        "id": "b978d694",
        "outputId": "8e7ec8d6-e0c1-4f7e-d792-cefc0283652a",
        "colab": {
          "base_uri": "https://localhost:8080/"
        }
      },
      "outputs": [
        {
          "output_type": "stream",
          "name": "stdout",
          "text": [
            "fatal: destination path 'deep-learning-pytorch-huggingface' already exists and is not an empty directory.\n"
          ]
        }
      ],
      "source": [
        "!git clone https://github.com/philschmid/deep-learning-pytorch-huggingface.git"
      ]
    },
    {
      "cell_type": "code",
      "execution_count": null,
      "id": "cabf1cfa",
      "metadata": {
        "tags": [],
        "id": "cabf1cfa",
        "outputId": "2f229e2a-d13e-4e2c-a18b-16e8e904b10b",
        "colab": {
          "base_uri": "https://localhost:8080/"
        }
      },
      "outputs": [
        {
          "output_type": "stream",
          "name": "stdout",
          "text": [
            "/content/deep-learning-pytorch-huggingface/training\n"
          ]
        }
      ],
      "source": [
        "%cd deep-learning-pytorch-huggingface/training/"
      ]
    },
    {
      "cell_type": "markdown",
      "source": [
        "### Training Preparation\n",
        "\n",
        "Now we're ready to start setting up our configuration options!\n",
        "\n",
        "We're going to do the following preparation work:\n",
        "\n",
        "1. If desired: Set-up FlashAttention through Phil's utility function.\n",
        "2. Create our BitsAndBytesConfig for 4bit training.\n",
        "3. Set up our LoRA config to leverage PEFT-LoRA"
      ],
      "metadata": {
        "id": "qYTq3JIlxgY5"
      },
      "id": "qYTq3JIlxgY5"
    },
    {
      "cell_type": "code",
      "execution_count": null,
      "id": "aae23e74-b492-4646-9686-91b9a94d10b1",
      "metadata": {
        "tags": [],
        "colab": {
          "referenced_widgets": [
            "57b7d2c83d324393b97f11e3ccffaeb8",
            "dac15ff931184f7da7484fef3a02091e",
            "b3001c97e4dc495c945adcebf9307626",
            "1eb4baa3fbd6427f93a9b655ede0562f",
            "c3f12c30f8cf48158b2dd0ff794fae9f",
            "1d81deec443d4bec8cda2bc6fc8d4d43",
            "fccddad0edf2417b823425ddc6706664",
            "e1a35a04672142f09e18771761e5b738",
            "21542b2507b14b35ab18c5c8fd724847",
            "1f60c44e406d46c09ca0a5579969418b",
            "81e24df7e77b474098a1e46510d3137d"
          ],
          "base_uri": "https://localhost:8080/",
          "height": 66
        },
        "id": "aae23e74-b492-4646-9686-91b9a94d10b1",
        "outputId": "64d3178d-3d3f-4a82-e7c8-38815b6cccd8"
      },
      "outputs": [
        {
          "output_type": "stream",
          "name": "stdout",
          "text": [
            "Flashing That Attention\n"
          ]
        },
        {
          "output_type": "display_data",
          "data": {
            "text/plain": [
              "Loading checkpoint shards:   0%|          | 0/2 [00:00<?, ?it/s]"
            ],
            "application/vnd.jupyter.widget-view+json": {
              "version_major": 2,
              "version_minor": 0,
              "model_id": "57b7d2c83d324393b97f11e3ccffaeb8"
            }
          },
          "metadata": {}
        }
      ],
      "source": [
        "import torch\n",
        "from transformers import AutoTokenizer, AutoModelForCausalLM, BitsAndBytesConfig\n",
        "\n",
        "use_flash = True\n",
        "use_flash_attention = None\n",
        "\n",
        "if use_flash:\n",
        "    if torch.cuda.get_device_capability()[0] >= 8:\n",
        "        from utils.llama_patch import replace_attn_with_flash_attn\n",
        "        print(\"Flashing That Attention\")\n",
        "        replace_attn_with_flash_attn()\n",
        "        use_flash_attention = True\n",
        "\n",
        "model_id = \"NousResearch/Llama-2-7b-hf\"\n",
        "\n",
        "bnb_config = BitsAndBytesConfig(\n",
        "    load_in_4bit=True,\n",
        "    bnb_4bit_use_double_quant=True,\n",
        "    bnb_4bit_quant_type=\"nf4\",\n",
        "    bnb_4bit_compute_dtype=torch.bfloat16\n",
        ")\n",
        "\n",
        "model = AutoModelForCausalLM.from_pretrained(\n",
        "    model_id,\n",
        "    quantization_config=bnb_config,\n",
        "    use_cache=False,\n",
        "    device_map=\"auto\"\n",
        ")\n",
        "\n",
        "model.config.pretraining_tp = 1\n",
        "\n",
        "if use_flash_attention:\n",
        "    from utils.llama_patch import forward\n",
        "    assert model.model.layers[0].self_attn.forward.__doc__ == forward.__doc__, \"Model didn't Flash Attention\"\n",
        "\n",
        "tokenizer = AutoTokenizer.from_pretrained(model_id)\n",
        "tokenizer.pad_token = tokenizer.eos_token\n",
        "tokenizer.padding_side = \"right\""
      ]
    },
    {
      "cell_type": "code",
      "execution_count": null,
      "id": "88328040-c3a9-49dc-84ea-db5eba126e12",
      "metadata": {
        "tags": [],
        "id": "88328040-c3a9-49dc-84ea-db5eba126e12"
      },
      "outputs": [],
      "source": [
        "from peft import LoraConfig, prepare_model_for_kbit_training, get_peft_model\n",
        "\n",
        "peft_config = LoraConfig(\n",
        "    lora_alpha=16,\n",
        "    lora_dropout=0.1,\n",
        "    r=32,\n",
        "    bias=\"none\",\n",
        "    task_type=\"CAUSAL_LM\"\n",
        ")\n",
        "\n",
        "model = prepare_model_for_kbit_training(model)"
      ]
    },
    {
      "cell_type": "markdown",
      "source": [
        "### Training\n",
        "\n",
        "Now that we have all that out of the way, let's set up our `TrainingArguments`, since `SFTTRainer` extends the base HF `Trainer`, we can use familiar args. for this step!\n",
        "\n",
        "You'll notice that the values for `per_device_train_batch_size` are very low - this is largely due to Colab constraints. You could leverage a dedicate cloud instance provider if you were seeking to do some more serious fine-tuning/instruct-tuning."
      ],
      "metadata": {
        "id": "DmmxMJJEz7C5"
      },
      "id": "DmmxMJJEz7C5"
    },
    {
      "cell_type": "code",
      "execution_count": null,
      "id": "65cfa20d-d144-4862-881f-3ca3ad836b04",
      "metadata": {
        "tags": [],
        "id": "65cfa20d-d144-4862-881f-3ca3ad836b04"
      },
      "outputs": [],
      "source": [
        "from transformers import TrainingArguments\n",
        "\n",
        "args = TrainingArguments(\n",
        "    output_dir=\"llama_7_nf4_alpaca_gpt4\",\n",
        "    num_train_epochs=3,\n",
        "    per_device_train_batch_size=4 if use_flash_attention else 1,\n",
        "    gradient_accumulation_steps=2,\n",
        "    gradient_checkpointing=True,\n",
        "    optim=\"paged_adamw_32bit\",\n",
        "    logging_steps=1,\n",
        "    save_strategy=\"steps\",\n",
        "    save_steps=100,\n",
        "    learning_rate=2e-4,\n",
        "    bf16=True,\n",
        "    tf32=True,\n",
        "    fp16=False,\n",
        "    max_grad_norm=0.3,\n",
        "    warmup_ratio=0.03,\n",
        "    lr_scheduler_type=\"constant\",\n",
        "    disable_tqdm=True\n",
        ")\n",
        "\n",
        "if use_flash_attention:\n",
        "    from utils.llama_patch import upcast_layer_for_flash_attention\n",
        "    torch_dtype = torch.bfloat16 if args.bf16 else torch.float16 if args.fp16 else torch.float32\n",
        "    model = upcast_layer_for_flash_attention(model, torch_dtype)\n",
        "\n",
        "model = get_peft_model(model, peft_config)"
      ]
    },
    {
      "cell_type": "markdown",
      "source": [
        "Now we can set up our `SFTTrainer`!\n",
        "\n",
        "You'll notice that we provide the dataset - but we do not indicate labels/masks for our inputs - this is because behind the scenes, SFTTrainer is going to construct a new dataset for us (as well as efficiently packing that dataset).\n",
        "\n",
        "You could certainly take a number of approaches here, but for now we'll stick to the basics!\n",
        "\n"
      ],
      "metadata": {
        "id": "LZLNG9Ui0k2g"
      },
      "id": "LZLNG9Ui0k2g"
    },
    {
      "cell_type": "code",
      "execution_count": null,
      "id": "b02daaa2-8922-4c1a-a4fe-619108419e8c",
      "metadata": {
        "tags": [],
        "id": "b02daaa2-8922-4c1a-a4fe-619108419e8c",
        "outputId": "4b2a070f-75ea-4ef8-b831-17280b5bb1fa",
        "colab": {
          "base_uri": "https://localhost:8080/"
        }
      },
      "outputs": [
        {
          "output_type": "stream",
          "name": "stderr",
          "text": [
            "/usr/local/lib/python3.10/dist-packages/trl/trainer/utils.py:246: UserWarning: The passed formatting_func has more than one argument. Usually that function should have a single argument `example` which corresponds to the dictonnary returned by each element of the dataset. Make sure you know what you are doing.\n",
            "  warnings.warn(\n"
          ]
        }
      ],
      "source": [
        "from trl import SFTTrainer\n",
        "\n",
        "max_seq_len = 2048\n",
        "\n",
        "trainer = SFTTrainer(\n",
        "    model=model,\n",
        "    train_dataset=dataset,\n",
        "    peft_config=peft_config,\n",
        "    max_seq_length=max_seq_len,\n",
        "    tokenizer=tokenizer,\n",
        "    packing=True,\n",
        "    formatting_func=format_row_as_instruction_prompt,\n",
        "    args=args,\n",
        ")"
      ]
    },
    {
      "cell_type": "markdown",
      "source": [
        "Nothing left to do but train!"
      ],
      "metadata": {
        "id": "uy2YdQHE1BBX"
      },
      "id": "uy2YdQHE1BBX"
    },
    {
      "cell_type": "code",
      "execution_count": null,
      "id": "cbdc6fe3-fe76-4eff-8c05-9afc9d44a2ae",
      "metadata": {
        "tags": [],
        "id": "cbdc6fe3-fe76-4eff-8c05-9afc9d44a2ae"
      },
      "outputs": [],
      "source": [
        "trainer.train()"
      ]
    },
    {
      "cell_type": "markdown",
      "source": [
        "Let's go ahead and save our model!"
      ],
      "metadata": {
        "id": "7W9FI1_11gKj"
      },
      "id": "7W9FI1_11gKj"
    },
    {
      "cell_type": "code",
      "execution_count": null,
      "id": "78213662-0c86-4868-b8a8-11e2e908338e",
      "metadata": {
        "tags": [],
        "id": "78213662-0c86-4868-b8a8-11e2e908338e"
      },
      "outputs": [],
      "source": [
        "trainer.save_model()"
      ]
    },
    {
      "cell_type": "markdown",
      "source": [
        "### Testing Our Model\n",
        "\n",
        "Now that we've instruct-tuned our model - let's see how it performs!"
      ],
      "metadata": {
        "id": "s6BpgQoH1igi"
      },
      "id": "s6BpgQoH1igi"
    },
    {
      "cell_type": "code",
      "execution_count": null,
      "id": "1cc23002-f39c-4a33-aa0d-8c5a2fdc2b20",
      "metadata": {
        "tags": [],
        "id": "1cc23002-f39c-4a33-aa0d-8c5a2fdc2b20"
      },
      "outputs": [],
      "source": [
        "if use_flash_attention:\n",
        "    from utils.llama_patch import unplace_flash_attn_with_attn\n",
        "    unplace_flash_attn_with_attn()\n",
        "\n",
        "import torch\n",
        "from peft import AutoPeftModelForCausalLM\n",
        "from transformers import AutoTokenizer\n",
        "\n",
        "args.output_dir = \"llama_7_nf4_alpaca_gpt4\"\n",
        "\n",
        "model = AutoPeftModelForCausalLM.from_pretrained(\n",
        "    args.output_dir,\n",
        "    low_cpu_mem_usage=True,\n",
        "    torch_dtype=torch.float16,\n",
        "    load_in_4bit=True,\n",
        ")\n",
        "\n",
        "tokenizer = AutoTokenizer.from_pretrained(args.output_dir)"
      ]
    },
    {
      "cell_type": "code",
      "execution_count": null,
      "id": "412b0f13-2062-4cd6-978d-d3ed4ac20f24",
      "metadata": {
        "tags": [],
        "id": "412b0f13-2062-4cd6-978d-d3ed4ac20f24"
      },
      "outputs": [],
      "source": [
        "from random import randrange\n",
        "\n",
        "sample = dataset[5]"
      ]
    },
    {
      "cell_type": "code",
      "execution_count": null,
      "id": "3160889e-2176-4469-b767-d7769a7d4683",
      "metadata": {
        "tags": [],
        "id": "3160889e-2176-4469-b767-d7769a7d4683"
      },
      "outputs": [],
      "source": [
        "print(sample)"
      ]
    },
    {
      "cell_type": "markdown",
      "source": [
        "First, let's see how our model handles this instruction task!"
      ],
      "metadata": {
        "id": "db7e1d-s1uDH"
      },
      "id": "db7e1d-s1uDH"
    },
    {
      "cell_type": "code",
      "execution_count": null,
      "id": "3522575c-9fac-4473-a2eb-dac87e328fa0",
      "metadata": {
        "tags": [],
        "id": "3522575c-9fac-4473-a2eb-dac87e328fa0"
      },
      "outputs": [],
      "source": [
        "instruction_template = f\"### Instruction:\\n{sample['instruction']}\"\n",
        "input_template = f\"### Input:\\n{sample['input']}\"\n",
        "generate_response_template = \"### Response:\"\n",
        "true_response_template = f\"{sample['output']}\"\n",
        "\n",
        "partial_prompt_list = [instruction_template]\n",
        "\n",
        "if sample[\"input\"]:\n",
        "    partial_prompt_list.append(input_template)\n",
        "\n",
        "partial_prompt_list.append(generate_response_template)\n",
        "\n",
        "generate_prompt = \"\\n\\n\".join(partial_prompt_list)\n",
        "\n",
        "print(f\"Prompt:\\n{generate_prompt}\\n --------\")\n",
        "\n",
        "input_ids = tokenizer(generate_prompt, return_tensors=\"pt\", truncation=True).input_ids.cuda()\n",
        "\n",
        "outputs = model.generate(input_ids=input_ids, max_new_tokens=100, do_sample=True, top_p=0.9, temperature=0.9)\n",
        "\n",
        "print(f\"Generated Response:\\n{tokenizer.batch_decode(outputs.detach().cpu().numpy(), skip_special_tokens=True)[0][len(generate_prompt):]}\\n -----\")\n",
        "print(f\"Actual Response:\\n{true_response_template}\")"
      ]
    },
    {
      "cell_type": "markdown",
      "source": [
        "Not bad! It provides a decent explanation - and gets the answer \"correct\"!\n",
        "\n",
        "Now let's see how the base model would've performed on the same prompt:"
      ],
      "metadata": {
        "id": "b1VnpxTU1xZX"
      },
      "id": "b1VnpxTU1xZX"
    },
    {
      "cell_type": "code",
      "execution_count": null,
      "id": "68c487c6-c0b8-4f2a-9a99-fef1a3b94b24",
      "metadata": {
        "tags": [],
        "id": "68c487c6-c0b8-4f2a-9a99-fef1a3b94b24"
      },
      "outputs": [],
      "source": [
        "model_id = \"NousResearch/Llama-2-7b-hf\"\n",
        "\n",
        "base_llama_2 = AutoModelForCausalLM.from_pretrained(\n",
        "    model_id,\n",
        "    low_cpu_mem_usage=True,\n",
        "    torch_dtype=torch.float16,\n",
        "    load_in_4bit=True,\n",
        ")\n",
        "\n",
        "base_llama_2_tokenizer = AutoTokenizer.from_pretrained(model_id)"
      ]
    },
    {
      "cell_type": "code",
      "execution_count": null,
      "id": "c1aeb84e-522a-4831-804e-bb013d6d9b23",
      "metadata": {
        "tags": [],
        "id": "c1aeb84e-522a-4831-804e-bb013d6d9b23"
      },
      "outputs": [],
      "source": [
        "instruction_template = f\"### Instruction:\\n{sample['instruction']}\"\n",
        "input_template = f\"### Input:\\n{sample['input']}\"\n",
        "generate_response_template = \"### Response:\"\n",
        "true_response_template = f\"{sample['output']}\"\n",
        "\n",
        "partial_prompt_list = [instruction_template]\n",
        "\n",
        "if sample[\"input\"]:\n",
        "    partial_prompt_list.append(input_template)\n",
        "\n",
        "partial_prompt_list.append(generate_response_template)\n",
        "\n",
        "generate_prompt = \"\\n\\n\".join(partial_prompt_list)\n",
        "\n",
        "print(f\"Prompt:\\n{generate_prompt}\\n --------\")\n",
        "\n",
        "input_ids = base_llama_2_tokenizer(generate_prompt, return_tensors=\"pt\", truncation=True).input_ids.cuda()\n",
        "\n",
        "outputs = base_llama_2.generate(input_ids=input_ids, max_new_tokens=100, do_sample=True, top_p=0.9, temperature=0.9)\n",
        "\n",
        "print(f\"Generated Response:\\n{base_llama_2_tokenizer.batch_decode(outputs.detach().cpu().numpy(), skip_special_tokens=True)[0][len(generate_prompt):]}\\n -----\")\n",
        "print(f\"Actual Response:\\n{true_response_template}\")"
      ]
    },
    {
      "cell_type": "markdown",
      "source": [
        "Well, let's just say - not well!\n",
        "\n",
        "Even with ~2 epochs of 5k samples, you can already see a massive improvement in the output of our model!"
      ],
      "metadata": {
        "id": "UlKiqs_016mK"
      },
      "id": "UlKiqs_016mK"
    },
    {
      "cell_type": "markdown",
      "source": [
        "### Export and Share\n",
        "\n",
        "Now that we've done the hard part - let's do the easy part and send this out into the world!"
      ],
      "metadata": {
        "id": "HSsaHXoW2BrB"
      },
      "id": "HSsaHXoW2BrB"
    },
    {
      "cell_type": "code",
      "execution_count": null,
      "id": "222bbf6a-dd54-4e59-8987-b282abc5d9e5",
      "metadata": {
        "tags": [],
        "id": "222bbf6a-dd54-4e59-8987-b282abc5d9e5"
      },
      "outputs": [],
      "source": [
        "from huggingface_hub import notebook_login\n",
        "\n",
        "notebook_login()"
      ]
    },
    {
      "cell_type": "code",
      "execution_count": null,
      "id": "a48bd40d-6fd8-4bd3-8f89-9330017f9db1",
      "metadata": {
        "tags": [],
        "id": "a48bd40d-6fd8-4bd3-8f89-9330017f9db1"
      },
      "outputs": [],
      "source": [
        "model = AutoPeftModelForCausalLM.from_pretrained(\n",
        "    args.output_dir,\n",
        "    low_cpu_mem_usage=True\n",
        ")\n",
        "\n",
        "merged_model = model.merge_and_unload()"
      ]
    },
    {
      "cell_type": "code",
      "execution_count": null,
      "id": "efec52cc-2853-4f04-8ffa-99113c6a096b",
      "metadata": {
        "tags": [],
        "id": "efec52cc-2853-4f04-8ffa-99113c6a096b"
      },
      "outputs": [],
      "source": [
        "HF_USERNAME = \"ai-maker-space\"\n",
        "HF_REPO_NAME = \"instruct-tuned-llama-7b-hf-alpaca_gpt4_5_000_samples\"\n",
        "\n",
        "merged_model.push_to_hub(f\"{HF_USERNAME}/{HF_REPO_NAME}\")\n",
        "tokenizer.push_to_hub(f\"{HF_USERNAME}/{HF_REPO_NAME}\")"
      ]
    }
  ],
  "metadata": {
    "kernelspec": {
      "display_name": "conda_pytorch_p310",
      "language": "python",
      "name": "conda_pytorch_p310"
    },
    "language_info": {
      "codemirror_mode": {
        "name": "ipython",
        "version": 3
      },
      "file_extension": ".py",
      "mimetype": "text/x-python",
      "name": "python",
      "nbconvert_exporter": "python",
      "pygments_lexer": "ipython3",
      "version": "3.10.10"
    },
    "colab": {
      "provenance": [],
      "gpuType": "A100",
      "include_colab_link": true
    },
    "widgets": {
      "application/vnd.jupyter.widget-state+json": {
        "57b7d2c83d324393b97f11e3ccffaeb8": {
          "model_module": "@jupyter-widgets/controls",
          "model_name": "HBoxModel",
          "model_module_version": "1.5.0",
          "state": {
            "_dom_classes": [],
            "_model_module": "@jupyter-widgets/controls",
            "_model_module_version": "1.5.0",
            "_model_name": "HBoxModel",
            "_view_count": null,
            "_view_module": "@jupyter-widgets/controls",
            "_view_module_version": "1.5.0",
            "_view_name": "HBoxView",
            "box_style": "",
            "children": [
              "IPY_MODEL_dac15ff931184f7da7484fef3a02091e",
              "IPY_MODEL_b3001c97e4dc495c945adcebf9307626",
              "IPY_MODEL_1eb4baa3fbd6427f93a9b655ede0562f"
            ],
            "layout": "IPY_MODEL_c3f12c30f8cf48158b2dd0ff794fae9f"
          }
        },
        "dac15ff931184f7da7484fef3a02091e": {
          "model_module": "@jupyter-widgets/controls",
          "model_name": "HTMLModel",
          "model_module_version": "1.5.0",
          "state": {
            "_dom_classes": [],
            "_model_module": "@jupyter-widgets/controls",
            "_model_module_version": "1.5.0",
            "_model_name": "HTMLModel",
            "_view_count": null,
            "_view_module": "@jupyter-widgets/controls",
            "_view_module_version": "1.5.0",
            "_view_name": "HTMLView",
            "description": "",
            "description_tooltip": null,
            "layout": "IPY_MODEL_1d81deec443d4bec8cda2bc6fc8d4d43",
            "placeholder": "​",
            "style": "IPY_MODEL_fccddad0edf2417b823425ddc6706664",
            "value": "Loading checkpoint shards: 100%"
          }
        },
        "b3001c97e4dc495c945adcebf9307626": {
          "model_module": "@jupyter-widgets/controls",
          "model_name": "FloatProgressModel",
          "model_module_version": "1.5.0",
          "state": {
            "_dom_classes": [],
            "_model_module": "@jupyter-widgets/controls",
            "_model_module_version": "1.5.0",
            "_model_name": "FloatProgressModel",
            "_view_count": null,
            "_view_module": "@jupyter-widgets/controls",
            "_view_module_version": "1.5.0",
            "_view_name": "ProgressView",
            "bar_style": "success",
            "description": "",
            "description_tooltip": null,
            "layout": "IPY_MODEL_e1a35a04672142f09e18771761e5b738",
            "max": 2,
            "min": 0,
            "orientation": "horizontal",
            "style": "IPY_MODEL_21542b2507b14b35ab18c5c8fd724847",
            "value": 2
          }
        },
        "1eb4baa3fbd6427f93a9b655ede0562f": {
          "model_module": "@jupyter-widgets/controls",
          "model_name": "HTMLModel",
          "model_module_version": "1.5.0",
          "state": {
            "_dom_classes": [],
            "_model_module": "@jupyter-widgets/controls",
            "_model_module_version": "1.5.0",
            "_model_name": "HTMLModel",
            "_view_count": null,
            "_view_module": "@jupyter-widgets/controls",
            "_view_module_version": "1.5.0",
            "_view_name": "HTMLView",
            "description": "",
            "description_tooltip": null,
            "layout": "IPY_MODEL_1f60c44e406d46c09ca0a5579969418b",
            "placeholder": "​",
            "style": "IPY_MODEL_81e24df7e77b474098a1e46510d3137d",
            "value": " 2/2 [00:04&lt;00:00,  2.07s/it]"
          }
        },
        "c3f12c30f8cf48158b2dd0ff794fae9f": {
          "model_module": "@jupyter-widgets/base",
          "model_name": "LayoutModel",
          "model_module_version": "1.2.0",
          "state": {
            "_model_module": "@jupyter-widgets/base",
            "_model_module_version": "1.2.0",
            "_model_name": "LayoutModel",
            "_view_count": null,
            "_view_module": "@jupyter-widgets/base",
            "_view_module_version": "1.2.0",
            "_view_name": "LayoutView",
            "align_content": null,
            "align_items": null,
            "align_self": null,
            "border": null,
            "bottom": null,
            "display": null,
            "flex": null,
            "flex_flow": null,
            "grid_area": null,
            "grid_auto_columns": null,
            "grid_auto_flow": null,
            "grid_auto_rows": null,
            "grid_column": null,
            "grid_gap": null,
            "grid_row": null,
            "grid_template_areas": null,
            "grid_template_columns": null,
            "grid_template_rows": null,
            "height": null,
            "justify_content": null,
            "justify_items": null,
            "left": null,
            "margin": null,
            "max_height": null,
            "max_width": null,
            "min_height": null,
            "min_width": null,
            "object_fit": null,
            "object_position": null,
            "order": null,
            "overflow": null,
            "overflow_x": null,
            "overflow_y": null,
            "padding": null,
            "right": null,
            "top": null,
            "visibility": null,
            "width": null
          }
        },
        "1d81deec443d4bec8cda2bc6fc8d4d43": {
          "model_module": "@jupyter-widgets/base",
          "model_name": "LayoutModel",
          "model_module_version": "1.2.0",
          "state": {
            "_model_module": "@jupyter-widgets/base",
            "_model_module_version": "1.2.0",
            "_model_name": "LayoutModel",
            "_view_count": null,
            "_view_module": "@jupyter-widgets/base",
            "_view_module_version": "1.2.0",
            "_view_name": "LayoutView",
            "align_content": null,
            "align_items": null,
            "align_self": null,
            "border": null,
            "bottom": null,
            "display": null,
            "flex": null,
            "flex_flow": null,
            "grid_area": null,
            "grid_auto_columns": null,
            "grid_auto_flow": null,
            "grid_auto_rows": null,
            "grid_column": null,
            "grid_gap": null,
            "grid_row": null,
            "grid_template_areas": null,
            "grid_template_columns": null,
            "grid_template_rows": null,
            "height": null,
            "justify_content": null,
            "justify_items": null,
            "left": null,
            "margin": null,
            "max_height": null,
            "max_width": null,
            "min_height": null,
            "min_width": null,
            "object_fit": null,
            "object_position": null,
            "order": null,
            "overflow": null,
            "overflow_x": null,
            "overflow_y": null,
            "padding": null,
            "right": null,
            "top": null,
            "visibility": null,
            "width": null
          }
        },
        "fccddad0edf2417b823425ddc6706664": {
          "model_module": "@jupyter-widgets/controls",
          "model_name": "DescriptionStyleModel",
          "model_module_version": "1.5.0",
          "state": {
            "_model_module": "@jupyter-widgets/controls",
            "_model_module_version": "1.5.0",
            "_model_name": "DescriptionStyleModel",
            "_view_count": null,
            "_view_module": "@jupyter-widgets/base",
            "_view_module_version": "1.2.0",
            "_view_name": "StyleView",
            "description_width": ""
          }
        },
        "e1a35a04672142f09e18771761e5b738": {
          "model_module": "@jupyter-widgets/base",
          "model_name": "LayoutModel",
          "model_module_version": "1.2.0",
          "state": {
            "_model_module": "@jupyter-widgets/base",
            "_model_module_version": "1.2.0",
            "_model_name": "LayoutModel",
            "_view_count": null,
            "_view_module": "@jupyter-widgets/base",
            "_view_module_version": "1.2.0",
            "_view_name": "LayoutView",
            "align_content": null,
            "align_items": null,
            "align_self": null,
            "border": null,
            "bottom": null,
            "display": null,
            "flex": null,
            "flex_flow": null,
            "grid_area": null,
            "grid_auto_columns": null,
            "grid_auto_flow": null,
            "grid_auto_rows": null,
            "grid_column": null,
            "grid_gap": null,
            "grid_row": null,
            "grid_template_areas": null,
            "grid_template_columns": null,
            "grid_template_rows": null,
            "height": null,
            "justify_content": null,
            "justify_items": null,
            "left": null,
            "margin": null,
            "max_height": null,
            "max_width": null,
            "min_height": null,
            "min_width": null,
            "object_fit": null,
            "object_position": null,
            "order": null,
            "overflow": null,
            "overflow_x": null,
            "overflow_y": null,
            "padding": null,
            "right": null,
            "top": null,
            "visibility": null,
            "width": null
          }
        },
        "21542b2507b14b35ab18c5c8fd724847": {
          "model_module": "@jupyter-widgets/controls",
          "model_name": "ProgressStyleModel",
          "model_module_version": "1.5.0",
          "state": {
            "_model_module": "@jupyter-widgets/controls",
            "_model_module_version": "1.5.0",
            "_model_name": "ProgressStyleModel",
            "_view_count": null,
            "_view_module": "@jupyter-widgets/base",
            "_view_module_version": "1.2.0",
            "_view_name": "StyleView",
            "bar_color": null,
            "description_width": ""
          }
        },
        "1f60c44e406d46c09ca0a5579969418b": {
          "model_module": "@jupyter-widgets/base",
          "model_name": "LayoutModel",
          "model_module_version": "1.2.0",
          "state": {
            "_model_module": "@jupyter-widgets/base",
            "_model_module_version": "1.2.0",
            "_model_name": "LayoutModel",
            "_view_count": null,
            "_view_module": "@jupyter-widgets/base",
            "_view_module_version": "1.2.0",
            "_view_name": "LayoutView",
            "align_content": null,
            "align_items": null,
            "align_self": null,
            "border": null,
            "bottom": null,
            "display": null,
            "flex": null,
            "flex_flow": null,
            "grid_area": null,
            "grid_auto_columns": null,
            "grid_auto_flow": null,
            "grid_auto_rows": null,
            "grid_column": null,
            "grid_gap": null,
            "grid_row": null,
            "grid_template_areas": null,
            "grid_template_columns": null,
            "grid_template_rows": null,
            "height": null,
            "justify_content": null,
            "justify_items": null,
            "left": null,
            "margin": null,
            "max_height": null,
            "max_width": null,
            "min_height": null,
            "min_width": null,
            "object_fit": null,
            "object_position": null,
            "order": null,
            "overflow": null,
            "overflow_x": null,
            "overflow_y": null,
            "padding": null,
            "right": null,
            "top": null,
            "visibility": null,
            "width": null
          }
        },
        "81e24df7e77b474098a1e46510d3137d": {
          "model_module": "@jupyter-widgets/controls",
          "model_name": "DescriptionStyleModel",
          "model_module_version": "1.5.0",
          "state": {
            "_model_module": "@jupyter-widgets/controls",
            "_model_module_version": "1.5.0",
            "_model_name": "DescriptionStyleModel",
            "_view_count": null,
            "_view_module": "@jupyter-widgets/base",
            "_view_module_version": "1.2.0",
            "_view_name": "StyleView",
            "description_width": ""
          }
        }
      }
    },
    "accelerator": "GPU"
  },
  "nbformat": 4,
  "nbformat_minor": 5
}